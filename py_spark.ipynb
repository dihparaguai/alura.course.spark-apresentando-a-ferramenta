{
 "cells": [
  {
   "cell_type": "code",
   "execution_count": 2,
   "id": "8a417b93",
   "metadata": {},
   "outputs": [],
   "source": [
    "import os\n",
    "\n",
    "# coloca as variáveis de ambiente necessárias para o PySpark no windows\n",
    "os.environ['JAVA_HOME'] = r\"C:\\Program Files\\Eclipse Adoptium\\jdk-8.0.452.9-hotspot\"\n",
    "os.environ['SPARK_HOME'] = r\"C:\\spark\\spark-3.5.6-bin-hadoop3\"\n",
    "\n",
    "os.environ['PYSPARK_PYTHON'] = r\"C:\\Users\\diego\\Desktop\\spark_alura\\.venv\\Scripts\\python.exe\"\n",
    "os.environ['PYSPARK_DRIVER_PYTHON'] = r\"C:\\Users\\diego\\Desktop\\spark_alura\\.venv\\Scripts\\python.exe\"\n"
   ]
  },
  {
   "cell_type": "code",
   "execution_count": 3,
   "id": "af419d05",
   "metadata": {},
   "outputs": [],
   "source": [
    "import findspark # busca o PySpark no sistema\n",
    "findspark.init()"
   ]
  },
  {
   "cell_type": "code",
   "execution_count": 4,
   "id": "381108af",
   "metadata": {},
   "outputs": [],
   "source": [
    "# importa a classe que inicia uma sessão do Spark para usar o Spark SQL\n",
    "from pyspark.sql import SparkSession"
   ]
  },
  {
   "cell_type": "code",
   "execution_count": 5,
   "id": "8e24e82e",
   "metadata": {},
   "outputs": [
    {
     "data": {
      "text/html": [
       "\n",
       "            <div>\n",
       "                <p><b>SparkSession - in-memory</b></p>\n",
       "                \n",
       "        <div>\n",
       "            <p><b>SparkContext</b></p>\n",
       "\n",
       "            <p><a href=\"http://DihPrgN5.mshome.net:4040\">Spark UI</a></p>\n",
       "\n",
       "            <dl>\n",
       "              <dt>Version</dt>\n",
       "                <dd><code>v3.5.6</code></dd>\n",
       "              <dt>Master</dt>\n",
       "                <dd><code>local[*]</code></dd>\n",
       "              <dt>AppName</dt>\n",
       "                <dd><code>Iniciando</code></dd>\n",
       "            </dl>\n",
       "        </div>\n",
       "        \n",
       "            </div>\n",
       "        "
      ],
      "text/plain": [
       "<pyspark.sql.session.SparkSession at 0x20724180a50>"
      ]
     },
     "execution_count": 5,
     "metadata": {},
     "output_type": "execute_result"
    }
   ],
   "source": [
    "# inicia uma sessão do Spark, que é o ponto de entrada para usar o Spark SQL\n",
    "spark = SparkSession.builder.master('local[*]').appName(\"Iniciando\").config(\"spark.hadoop.io.native.lib\", \"false\").getOrCreate()\n",
    "spark"
   ]
  },
  {
   "cell_type": "code",
   "execution_count": null,
   "id": "faef68bd",
   "metadata": {},
   "outputs": [
    {
     "name": "stdout",
     "output_type": "stream",
     "text": [
      "+----+-----+\n",
      "|nome|idade|\n",
      "+----+-----+\n",
      "|zeca|   35|\n",
      "| eva|   29|\n",
      "+----+-----+\n",
      "\n"
     ]
    }
   ],
   "source": [
    "# exemplo de criação de um DataFrame usando tuplas\n",
    "data = [('zeca', '35'), ('eva', '29')]\n",
    "col_names = ['nome', 'idade']\n",
    "\n",
    "df = spark.createDataFrame(data, col_names)\n",
    "\n",
    "df.show()"
   ]
  },
  {
   "cell_type": "code",
   "execution_count": 17,
   "id": "5a0a9b2c",
   "metadata": {},
   "outputs": [
    {
     "name": "stdout",
     "output_type": "stream",
     "text": [
      "+-----+----+\n",
      "|idade|nome|\n",
      "+-----+----+\n",
      "|   35|zeca|\n",
      "|   29| eva|\n",
      "+-----+----+\n",
      "\n"
     ]
    }
   ],
   "source": [
    "# exemplo de criação de um DataFrame usando dicionários\n",
    "data_dict = [{'nome': 'zeca', 'idade': '35'}, {'nome': 'eva', 'idade': '29'}]\n",
    "\n",
    "df = spark.createDataFrame(data_dict)\n",
    "\n",
    "df.show()"
   ]
  },
  {
   "cell_type": "code",
   "execution_count": 7,
   "id": "0d643b2d",
   "metadata": {},
   "outputs": [
    {
     "data": {
      "text/html": [
       "<div>\n",
       "<style scoped>\n",
       "    .dataframe tbody tr th:only-of-type {\n",
       "        vertical-align: middle;\n",
       "    }\n",
       "\n",
       "    .dataframe tbody tr th {\n",
       "        vertical-align: top;\n",
       "    }\n",
       "\n",
       "    .dataframe thead th {\n",
       "        text-align: right;\n",
       "    }\n",
       "</style>\n",
       "<table border=\"1\" class=\"dataframe\">\n",
       "  <thead>\n",
       "    <tr style=\"text-align: right;\">\n",
       "      <th></th>\n",
       "      <th>nome</th>\n",
       "      <th>idade</th>\n",
       "    </tr>\n",
       "  </thead>\n",
       "  <tbody>\n",
       "    <tr>\n",
       "      <th>0</th>\n",
       "      <td>zeca</td>\n",
       "      <td>35</td>\n",
       "    </tr>\n",
       "    <tr>\n",
       "      <th>1</th>\n",
       "      <td>eva</td>\n",
       "      <td>29</td>\n",
       "    </tr>\n",
       "  </tbody>\n",
       "</table>\n",
       "</div>"
      ],
      "text/plain": [
       "   nome idade\n",
       "0  zeca    35\n",
       "1   eva    29"
      ]
     },
     "execution_count": 7,
     "metadata": {},
     "output_type": "execute_result"
    }
   ],
   "source": [
    "# converte o DataFrame do Spark para um DataFrame do Pandas\n",
    "df.toPandas()"
   ]
  },
  {
   "cell_type": "code",
   "execution_count": null,
   "id": "227a7b4a",
   "metadata": {},
   "outputs": [],
   "source": [
    "zip_path = os.path.abspath(r'.\\zip_files')\n",
    "data_path = os.path.abspath(r'.\\data')"
   ]
  },
  {
   "cell_type": "code",
   "execution_count": null,
   "id": "56c89840",
   "metadata": {},
   "outputs": [],
   "source": [
    "import zipfile # biblioteca nativa do Python para manipular arquivos zip\n",
    "\n",
    "zipfile.ZipFile(os.path.join(zip_path, 'empresas.zip'), 'r').extractall(data_path)\n",
    "zipfile.ZipFile(os.path.join(zip_path, 'estabelecimentos.zip'), 'r').extractall(data_path)\n",
    "zipfile.ZipFile(os.path.join(zip_path, 'socios.zip'), 'r').extractall(data_path)"
   ]
  },
  {
   "cell_type": "code",
   "execution_count": null,
   "id": "9d6a3695",
   "metadata": {},
   "outputs": [],
   "source": [
    "# retorna uma lista com os caminhos dos arquivos de um diretório\n",
    "def get_files_from_directory(directory):\n",
    "    files = [\n",
    "        os.path.join(directory, f)\n",
    "        for f in os.listdir(directory)\n",
    "    ]\n",
    "    return files"
   ]
  },
  {
   "cell_type": "code",
   "execution_count": 23,
   "id": "0060e601",
   "metadata": {},
   "outputs": [
    {
     "data": {
      "text/plain": [
       "4585679"
      ]
     },
     "execution_count": 23,
     "metadata": {},
     "output_type": "execute_result"
    }
   ],
   "source": [
    "# lê todos os arquivos CSV do diretório especificado e cria um DataFrame\n",
    "df_empresa = spark.read.csv(\n",
    "    get_files_from_directory(os.path.join(data_path, 'empresas')), \n",
    "    sep=\";\", header=False, inferSchema=True)\n",
    "\n",
    "df_empresa.count()"
   ]
  },
  {
   "cell_type": "code",
   "execution_count": 24,
   "id": "348cfd82",
   "metadata": {},
   "outputs": [
    {
     "data": {
      "text/plain": [
       "4836219"
      ]
     },
     "execution_count": 24,
     "metadata": {},
     "output_type": "execute_result"
    }
   ],
   "source": [
    "df_estabelecimentos = spark.read.csv(\n",
    "    get_files_from_directory(os.path.join(data_path, 'estabelecimentos')), \n",
    "    sep=\";\", header=False, inferSchema=True)\n",
    "\n",
    "df_estabelecimentos.count()"
   ]
  },
  {
   "cell_type": "code",
   "execution_count": 25,
   "id": "6dc214fa",
   "metadata": {},
   "outputs": [
    {
     "data": {
      "text/plain": [
       "2046430"
      ]
     },
     "execution_count": 25,
     "metadata": {},
     "output_type": "execute_result"
    }
   ],
   "source": [
    "df_socios = spark.read.csv(\n",
    "    get_files_from_directory(os.path.join(data_path, 'socios')), \n",
    "    sep=\";\", header=False, inferSchema=True)\n",
    "\n",
    "df_socios.count()"
   ]
  },
  {
   "cell_type": "code",
   "execution_count": null,
   "id": "47a1660b",
   "metadata": {},
   "outputs": [
    {
     "name": "stdout",
     "output_type": "stream",
     "text": [
      "+----+--------------------+----+---+----+---+----+\n",
      "| _c0|                 _c1| _c2|_c3| _c4|_c5| _c6|\n",
      "+----+--------------------+----+---+----+---+----+\n",
      "| 306|FRANCAMAR REFRIGE...|2240| 49|0,00|  1|NULL|\n",
      "|1355|BRASILEIRO & OLIV...|2062| 49|0,00|  5|NULL|\n",
      "|4820|REGISTRO DE IMOVE...|3034| 32|0,00|  5|NULL|\n",
      "+----+--------------------+----+---+----+---+----+\n",
      "only showing top 3 rows\n",
      "\n",
      "+----+---+---+---+--------------+---+--------+---+----+----+--------+-------+----+----+---------------+----+-------+------------------+-------+----+----+----+----+----+----+----+----+----+----+----+\n",
      "| _c0|_c1|_c2|_c3|           _c4|_c5|     _c6|_c7| _c8| _c9|    _c10|   _c11|_c12|_c13|           _c14|_c15|   _c16|              _c17|   _c18|_c19|_c20|_c21|_c22|_c23|_c24|_c25|_c26|_c27|_c28|_c29|\n",
      "+----+---+---+---+--------------+---+--------+---+----+----+--------+-------+----+----+---------------+----+-------+------------------+-------+----+----+----+----+----+----+----+----+----+----+----+\n",
      "|1879|  1| 96|  1|PIRAMIDE M. C.|  8|20011029|  1|NULL|NULL|19940509|1412602|NULL| RUA|JOSE FIGLIOLINI| 608|   NULL|         VILA NILO|2278020|  SP|7107|NULL|NULL|NULL|NULL|NULL|NULL|NULL|NULL|NULL|\n",
      "|2818|  1| 43|  1|          NULL|  8|20081231| 71|NULL|NULL|19940512|4671100|NULL| RUA|         BAQUIA| 416|   NULL|VL NOVA MANCHESTER|3443000|  SP|7107|NULL|NULL|NULL|NULL|NULL|NULL|NULL|NULL|NULL|\n",
      "|3110|  1|  7|  1|          NULL|  8|19971231|  1|NULL|NULL|19940512|4789007|NULL| RUA|LEOCADIA CINTRA| 180|CONJ 83|             MOOCA|3112040|  SP|7107|NULL|NULL|NULL|NULL|NULL|NULL|NULL|NULL|NULL|\n",
      "+----+---+---+---+--------------+---+--------+---+----+----+--------+-------+----+----+---------------+----+-------+------------------+-------+----+----+----+----+----+----+----+----+----+----+----+\n",
      "only showing top 3 rows\n",
      "\n",
      "+----+---+--------------------+-----------+---+--------+----+-----------+----+---+----+\n",
      "| _c0|_c1|                 _c2|        _c3|_c4|     _c5| _c6|        _c7| _c8|_c9|_c10|\n",
      "+----+---+--------------------+-----------+---+--------+----+-----------+----+---+----+\n",
      "| 411|  2|LILIANA PATRICIA ...|***678188**| 22|19940725|NULL|***000000**|NULL|  0|   7|\n",
      "| 411|  2|CRISTINA HUNDERTMARK|***637848**| 28|19940725|NULL|***000000**|NULL|  0|   7|\n",
      "|5813|  2|CELSO EDUARDO DE ...|***786068**| 49|19940516|NULL|***000000**|NULL|  0|   8|\n",
      "+----+---+--------------------+-----------+---+--------+----+-----------+----+---+----+\n",
      "only showing top 3 rows\n",
      "\n"
     ]
    }
   ],
   "source": [
    "# exibe as primeiras 3 linhas dos DataFrames\n",
    "df_empresa.show(3)\n",
    "df_estabelecimentos.show(3)\n",
    "df_socios.show(3)"
   ]
  },
  {
   "cell_type": "code",
   "execution_count": null,
   "id": "0e4f6b90",
   "metadata": {},
   "outputs": [
    {
     "data": {
      "text/html": [
       "<div>\n",
       "<style scoped>\n",
       "    .dataframe tbody tr th:only-of-type {\n",
       "        vertical-align: middle;\n",
       "    }\n",
       "\n",
       "    .dataframe tbody tr th {\n",
       "        vertical-align: top;\n",
       "    }\n",
       "\n",
       "    .dataframe thead th {\n",
       "        text-align: right;\n",
       "    }\n",
       "</style>\n",
       "<table border=\"1\" class=\"dataframe\">\n",
       "  <thead>\n",
       "    <tr style=\"text-align: right;\">\n",
       "      <th></th>\n",
       "      <th>cnpj_basico</th>\n",
       "      <th>identificador_de_socio</th>\n",
       "      <th>nome_do_socio_ou_razao_social</th>\n",
       "      <th>cnpj_ou_cpf_do_socio</th>\n",
       "      <th>qualificacao_do_socio</th>\n",
       "      <th>data_de_entrada_sociedade</th>\n",
       "      <th>pais</th>\n",
       "      <th>representante_legal</th>\n",
       "      <th>nome_do_representante</th>\n",
       "      <th>qualificacao_do_representante_legal</th>\n",
       "      <th>faixa_etaria</th>\n",
       "    </tr>\n",
       "  </thead>\n",
       "  <tbody>\n",
       "    <tr>\n",
       "      <th>0</th>\n",
       "      <td>411</td>\n",
       "      <td>2</td>\n",
       "      <td>LILIANA PATRICIA GUASTAVINO</td>\n",
       "      <td>***678188**</td>\n",
       "      <td>22</td>\n",
       "      <td>19940725</td>\n",
       "      <td>NaN</td>\n",
       "      <td>***000000**</td>\n",
       "      <td>None</td>\n",
       "      <td>0</td>\n",
       "      <td>7</td>\n",
       "    </tr>\n",
       "    <tr>\n",
       "      <th>1</th>\n",
       "      <td>411</td>\n",
       "      <td>2</td>\n",
       "      <td>CRISTINA HUNDERTMARK</td>\n",
       "      <td>***637848**</td>\n",
       "      <td>28</td>\n",
       "      <td>19940725</td>\n",
       "      <td>NaN</td>\n",
       "      <td>***000000**</td>\n",
       "      <td>None</td>\n",
       "      <td>0</td>\n",
       "      <td>7</td>\n",
       "    </tr>\n",
       "    <tr>\n",
       "      <th>2</th>\n",
       "      <td>5813</td>\n",
       "      <td>2</td>\n",
       "      <td>CELSO EDUARDO DE CASTRO STEPHAN</td>\n",
       "      <td>***786068**</td>\n",
       "      <td>49</td>\n",
       "      <td>19940516</td>\n",
       "      <td>NaN</td>\n",
       "      <td>***000000**</td>\n",
       "      <td>None</td>\n",
       "      <td>0</td>\n",
       "      <td>8</td>\n",
       "    </tr>\n",
       "  </tbody>\n",
       "</table>\n",
       "</div>"
      ],
      "text/plain": [
       "   cnpj_basico  identificador_de_socio    nome_do_socio_ou_razao_social  \\\n",
       "0          411                       2      LILIANA PATRICIA GUASTAVINO   \n",
       "1          411                       2             CRISTINA HUNDERTMARK   \n",
       "2         5813                       2  CELSO EDUARDO DE CASTRO STEPHAN   \n",
       "\n",
       "  cnpj_ou_cpf_do_socio  qualificacao_do_socio  data_de_entrada_sociedade  \\\n",
       "0          ***678188**                     22                   19940725   \n",
       "1          ***637848**                     28                   19940725   \n",
       "2          ***786068**                     49                   19940516   \n",
       "\n",
       "   pais representante_legal nome_do_representante  \\\n",
       "0   NaN         ***000000**                  None   \n",
       "1   NaN         ***000000**                  None   \n",
       "2   NaN         ***000000**                  None   \n",
       "\n",
       "   qualificacao_do_representante_legal  faixa_etaria  \n",
       "0                                    0             7  \n",
       "1                                    0             7  \n",
       "2                                    0             8  "
      ]
     },
     "execution_count": 46,
     "metadata": {},
     "output_type": "execute_result"
    }
   ],
   "source": [
    "# converte as primeiras 3 linhas do DataFrame do Spark para um DataFrame do Pandas\n",
    "df_socios.limit(3).toPandas()"
   ]
  }
 ],
 "metadata": {
  "kernelspec": {
   "display_name": ".venv",
   "language": "python",
   "name": "python3"
  },
  "language_info": {
   "codemirror_mode": {
    "name": "ipython",
    "version": 3
   },
   "file_extension": ".py",
   "mimetype": "text/x-python",
   "name": "python",
   "nbconvert_exporter": "python",
   "pygments_lexer": "ipython3",
   "version": "3.11.9"
  }
 },
 "nbformat": 4,
 "nbformat_minor": 5
}
